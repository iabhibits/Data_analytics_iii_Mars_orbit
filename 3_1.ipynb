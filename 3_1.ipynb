{
 "cells": [
  {
   "cell_type": "code",
   "execution_count": 27,
   "metadata": {},
   "outputs": [],
   "source": [
    "import numpy as np\n",
    "import pandas as pd\n",
    "import random\n",
    "from scipy.optimize import minimize\n",
    "import matplotlib as mpl\n",
    "import matplotlib.pyplot as plt\n",
    "import math"
   ]
  },
  {
   "cell_type": "code",
   "execution_count": 114,
   "metadata": {},
   "outputs": [],
   "source": [
    "def calc_angles(df):\n",
    "    h_deg = df['DegreeEarthLocationHelioCentric'].values\n",
    "    h_min = df['MinuteEarthLocationHelioCentric'].values\n",
    "    g_deg = df['DegreeMarsLocationGeoCentric'].values\n",
    "    g_min = df['MinuteMarsLocationGeoCentric'].values\n",
    "    theta1 = []\n",
    "    theta2 = []\n",
    "    phi1 = []\n",
    "    phi2 = []\n",
    "    for i in range(0,df.shape[0],2):\n",
    "        #print(i)\n",
    "        theta1.append((h_deg[i] + h_min[i] / 60) * math.pi/180)\n",
    "        theta2.append((h_deg[i+1] + h_min[i+1] / 60) * math.pi/180)\n",
    "        phi1.append((g_deg[i] + g_min[i] / 60) * math.pi/180)\n",
    "        phi2.append((g_deg[i+1] + g_min[i+1] / 60) * math.pi/180)\n",
    "    return theta1,theta2,phi1,phi2"
   ]
  },
  {
   "cell_type": "code",
   "execution_count": 116,
   "metadata": {},
   "outputs": [],
   "source": [
    "def calc_coordinates_tri(m1,m2,t1,t2):\n",
    "    x_coord = (m2 * math.cos(t2) - m1 * math.cos(t1) + math.sin(t1) - math.sin(t2)) / (m2 - m1)\n",
    "    y_coord = (m2 * m1 *(math.cos(t2) - math.cos(t1)) +  m2 * math.sin(t1) - m1 * math.sin(t2)) / (m2 - m1)\n",
    "    return x_coord, y_coord"
   ]
  },
  {
   "cell_type": "code",
   "execution_count": 117,
   "metadata": {},
   "outputs": [],
   "source": [
    "def coordinates_tri(t1,t2,p1,p2):\n",
    "    x_coord = []\n",
    "    y_coord = []\n",
    "    for i in range(len(t1)):\n",
    "        x, y = calc_coordinates_tri(math.tan(p1[i]),math.tan(p2[i]),t1[i],t2[i])\n",
    "        x_coord.append(x)\n",
    "        y_coord.append(y)\n",
    "    return x_coord, y_coord"
   ]
  },
  {
   "cell_type": "markdown",
   "metadata": {},
   "source": [
    "   #### 2 part (ii)"
   ]
  },
  {
   "cell_type": "code",
   "execution_count": 137,
   "metadata": {},
   "outputs": [],
   "source": [
    "def calc_distance(r,x,y):\n",
    "    loss = 0\n",
    "    for i in range(len(x)):\n",
    "        euc_distance = math.sqrt(x[i]**2 + y[i] ** 2)\n",
    "        loss += abs(euc_distance - r)\n",
    "    return loss"
   ]
  },
  {
   "cell_type": "code",
   "execution_count": 138,
   "metadata": {},
   "outputs": [],
   "source": [
    "def minimize_loss_tri(x,y):\n",
    "    radius = 2\n",
    "    parameter = minimize(calc_distance,radius,args = (x,y),method = 'L-BFGS-B')\n",
    "    opt_param = parameter['x']\n",
    "    loss = parameter['fun']\n",
    "    return opt_param,loss"
   ]
  },
  {
   "cell_type": "code",
   "execution_count": 123,
   "metadata": {},
   "outputs": [],
   "source": [
    "def read_dataset(filename):\n",
    "    df = pd.read_csv(filename)\n",
    "    \n",
    "    Zodiac_index = df['ZodiacIndex'].values\n",
    "    Degree = df['Degree'].values\n",
    "    Minute = df['Minute'].values\n",
    "    Second = df['Second'].values\n",
    "    sun = Zodiac_index, Degree, Minute, Second\n",
    "    \n",
    "    LatDegree = df['LatDegree'].values\n",
    "    LatMinute = df['LatMinute'].values\n",
    "    lat = LatDegree, LatMinute\n",
    "    \n",
    "    return sun, lat"
   ]
  },
  {
   "cell_type": "code",
   "execution_count": 125,
   "metadata": {},
   "outputs": [],
   "source": [
    "def calculate_heliocentric_angle(lat,r):\n",
    "    deg, minute = lat\n",
    "    d = r - 1\n",
    "    helo_angle = []\n",
    "    for i in range(len(deg)):\n",
    "        theta = (deg[i] + minute[i]/60) * math.pi / 180\n",
    "        phi = math.atan(d * math.tan(theta) / r)\n",
    "        helo_angle.append(phi)\n",
    "    return helo_angle"
   ]
  },
  {
   "cell_type": "markdown",
   "metadata": {},
   "source": [
    "#### 3 part(ii)"
   ]
  },
  {
   "cell_type": "code",
   "execution_count": 127,
   "metadata": {},
   "outputs": [],
   "source": [
    "def calc_longitude(z,d,m,s):\n",
    "    return (z*30 + d + m/60 + s/3600 ) * math.pi/180"
   ]
  },
  {
   "cell_type": "code",
   "execution_count": 128,
   "metadata": {},
   "outputs": [],
   "source": [
    "def longitude(filename):\n",
    "    sun,lat = read_dataset(filename)\n",
    "    Zodiac_index, Degree, Minute, Second = sun\n",
    "    alpha = []\n",
    "    for i in range(len(Zodiac_index)):\n",
    "        a = calc_longitude(Zodiac_index[i],Degree[i],Minute[i],Second[i])\n",
    "        alpha.append(a)\n",
    "    return alpha"
   ]
  },
  {
   "cell_type": "code",
   "execution_count": 130,
   "metadata": {},
   "outputs": [],
   "source": [
    "def coordinates_3d(theta,phi):\n",
    "    coord = []\n",
    "    for i in range(len(phi)):\n",
    "        x = [math.cos(theta[i]) * math.cos(phi[i]), math.cos(theta[i]) * math.sin(phi[i]), math.sin(theta[i])]\n",
    "        coord.append(x)\n",
    "    return coord"
   ]
  },
  {
   "cell_type": "markdown",
   "metadata": {},
   "source": [
    "#### 3 part(iii)"
   ]
  },
  {
   "cell_type": "code",
   "execution_count": 132,
   "metadata": {},
   "outputs": [],
   "source": [
    "def calc_TotalDisFromPlane(params,coord):\n",
    "    distance = 0\n",
    "    for i in range(len(coord)):\n",
    "        a,b,c = params\n",
    "        distance += abs((a * coord[i][0] + b * coord[i][1] + c * coord[i][2]) / math.sqrt(a ** 2 + b ** 2 + c ** 2))\n",
    "    return distance"
   ]
  },
  {
   "cell_type": "code",
   "execution_count": 133,
   "metadata": {},
   "outputs": [],
   "source": [
    "def minimize_loss(coord_3d):\n",
    "    a = 1\n",
    "    b = 1\n",
    "    c = 1\n",
    "    params = a, b, c\n",
    "    parameter = minimize(calc_TotalDisFromPlane,params,args = coord_3d,method = 'L-BFGS-B')\n",
    "    opt_param = parameter['x']\n",
    "    loss = parameter['fun']\n",
    "    return opt_param,loss"
   ]
  },
  {
   "cell_type": "code",
   "execution_count": 150,
   "metadata": {},
   "outputs": [],
   "source": [
    "def calc_inclination(param):\n",
    "    angle = math.acos(param[2]/(math.sqrt(param[0] ** 2 + param[1] ** 2 + param[2] ** 2)))\n",
    "    angle = angle * 180 / math.pi\n",
    "    return angle"
   ]
  },
  {
   "cell_type": "markdown",
   "metadata": {},
   "source": [
    "#### 4 part(i)"
   ]
  },
  {
   "cell_type": "code",
   "execution_count": 90,
   "metadata": {},
   "outputs": [],
   "source": [
    "def calc_CoordOnMarsPlane(params,coord):\n",
    "    coord_marsplane = []\n",
    "    x, y = coord\n",
    "    for i in range(len(x)):\n",
    "        z = (params[0] * x[i] + params[1] * y[i]) * -1 / param[2]\n",
    "        coord_marsplane.append([x[i],y[i],z])\n",
    "    return coord_marsplane"
   ]
  },
  {
   "cell_type": "code",
   "execution_count": 152,
   "metadata": {},
   "outputs": [],
   "source": [
    "def find_dist_circle(coord):\n",
    "    distance = 0\n",
    "    d = []\n",
    "    for i in range(np.array(coord).shape[0]):\n",
    "        x = math.sqrt(coord[i][0] ** 2 + coord[i][1] ** 2 + coord[i][2] ** 2)\n",
    "        distance += x\n",
    "        d.append(x)\n",
    "    loss = np.var(d)\n",
    "    return distance/np.array(coord).shape[0] , loss"
   ]
  },
  {
   "cell_type": "markdown",
   "metadata": {},
   "source": [
    "#### 4 part(ii)"
   ]
  },
  {
   "cell_type": "code",
   "execution_count": 205,
   "metadata": {},
   "outputs": [],
   "source": [
    "def focus_ellipse(theta,phi,c):\n",
    "    x = [ 2 * c * math.cos(theta) * math.cos(phi),  2 * c * math.cos(theta) * math.sin(phi), 2 * c * math.sin(phi)]\n",
    "    #print(x)\n",
    "    return x"
   ]
  },
  {
   "cell_type": "code",
   "execution_count": 208,
   "metadata": {},
   "outputs": [],
   "source": [
    "def calc_Dismarsplane(param,angle,coord):\n",
    "    c, phi = param\n",
    "    foc1 = [0,0,0]\n",
    "    d = []\n",
    "    foc2 = focus_ellipse(angle,phi,c)\n",
    "    #print(foc2)\n",
    "    for i in range(np.array(coord).shape[0]):\n",
    "        d1 = math.sqrt(coord[i][0] ** 2 + coord[i][1] ** 2 + coord[i][2] ** 2)\n",
    "        d2 = math.sqrt((foc2[0]-coord[i][0]) ** 2 + (foc2[1]-coord[i][1]) ** 2 + (foc2[2]-coord[i][2]) ** 2)\n",
    "        d.append(d1+d2)\n",
    "    loss = np.var(d)\n",
    "    return loss"
   ]
  },
  {
   "cell_type": "code",
   "execution_count": 209,
   "metadata": {},
   "outputs": [],
   "source": [
    "def minimize_loss(angle,coord):\n",
    "    c = 1\n",
    "    phi = 1\n",
    "    params = c, phi\n",
    "    angle = angle * math.pi / 180\n",
    "    parameter = minimize(calc_Dismarsplane,params,args = (angle,coord),method = 'L-BFGS-B')\n",
    "    opt_param = parameter['x']\n",
    "    loss = parameter['fun']\n",
    "    return opt_param,loss"
   ]
  },
  {
   "cell_type": "code",
   "execution_count": 214,
   "metadata": {},
   "outputs": [
    {
     "ename": "FileNotFoundError",
     "evalue": "[Errno 2] File b'../data/01_data_mars_triangulation.csv' does not exist: b'../data/01_data_mars_triangulation.csv'",
     "output_type": "error",
     "traceback": [
      "\u001b[0;31m---------------------------------------------------------------------------\u001b[0m",
      "\u001b[0;31mFileNotFoundError\u001b[0m                         Traceback (most recent call last)",
      "\u001b[0;32m<ipython-input-214-8b148c2d5f76>\u001b[0m in \u001b[0;36m<module>\u001b[0;34m\u001b[0m\n\u001b[1;32m      1\u001b[0m \u001b[0;32mif\u001b[0m \u001b[0m__name__\u001b[0m \u001b[0;34m==\u001b[0m \u001b[0;34m'__main__'\u001b[0m\u001b[0;34m:\u001b[0m\u001b[0;34m\u001b[0m\u001b[0;34m\u001b[0m\u001b[0m\n\u001b[0;32m----> 2\u001b[0;31m     \u001b[0mdf\u001b[0m \u001b[0;34m=\u001b[0m \u001b[0mpd\u001b[0m\u001b[0;34m.\u001b[0m\u001b[0mread_csv\u001b[0m\u001b[0;34m(\u001b[0m\u001b[0;34m'../data/01_data_mars_triangulation.csv'\u001b[0m\u001b[0;34m)\u001b[0m\u001b[0;34m\u001b[0m\u001b[0;34m\u001b[0m\u001b[0m\n\u001b[0m\u001b[1;32m      3\u001b[0m     \u001b[0;31m# 2 part(i)\u001b[0m\u001b[0;34m\u001b[0m\u001b[0;34m\u001b[0m\u001b[0;34m\u001b[0m\u001b[0m\n\u001b[1;32m      4\u001b[0m     \u001b[0mtheta1\u001b[0m\u001b[0;34m,\u001b[0m\u001b[0mtheta2\u001b[0m\u001b[0;34m,\u001b[0m\u001b[0mphi1\u001b[0m\u001b[0;34m,\u001b[0m\u001b[0mphi2\u001b[0m \u001b[0;34m=\u001b[0m \u001b[0mcalc_angles\u001b[0m\u001b[0;34m(\u001b[0m\u001b[0mdf\u001b[0m\u001b[0;34m)\u001b[0m\u001b[0;34m\u001b[0m\u001b[0;34m\u001b[0m\u001b[0m\n\u001b[1;32m      5\u001b[0m     \u001b[0mx\u001b[0m \u001b[0;34m,\u001b[0m \u001b[0my\u001b[0m \u001b[0;34m=\u001b[0m \u001b[0mcoordinates_tri\u001b[0m\u001b[0;34m(\u001b[0m\u001b[0mtheta1\u001b[0m\u001b[0;34m,\u001b[0m\u001b[0mtheta2\u001b[0m\u001b[0;34m,\u001b[0m\u001b[0mphi1\u001b[0m\u001b[0;34m,\u001b[0m\u001b[0mphi2\u001b[0m\u001b[0;34m)\u001b[0m\u001b[0;34m\u001b[0m\u001b[0;34m\u001b[0m\u001b[0m\n",
      "\u001b[0;32m~/anaconda3/envs/torch/lib/python3.7/site-packages/pandas/io/parsers.py\u001b[0m in \u001b[0;36mparser_f\u001b[0;34m(filepath_or_buffer, sep, delimiter, header, names, index_col, usecols, squeeze, prefix, mangle_dupe_cols, dtype, engine, converters, true_values, false_values, skipinitialspace, skiprows, skipfooter, nrows, na_values, keep_default_na, na_filter, verbose, skip_blank_lines, parse_dates, infer_datetime_format, keep_date_col, date_parser, dayfirst, cache_dates, iterator, chunksize, compression, thousands, decimal, lineterminator, quotechar, quoting, doublequote, escapechar, comment, encoding, dialect, error_bad_lines, warn_bad_lines, delim_whitespace, low_memory, memory_map, float_precision)\u001b[0m\n\u001b[1;32m    683\u001b[0m         )\n\u001b[1;32m    684\u001b[0m \u001b[0;34m\u001b[0m\u001b[0m\n\u001b[0;32m--> 685\u001b[0;31m         \u001b[0;32mreturn\u001b[0m \u001b[0m_read\u001b[0m\u001b[0;34m(\u001b[0m\u001b[0mfilepath_or_buffer\u001b[0m\u001b[0;34m,\u001b[0m \u001b[0mkwds\u001b[0m\u001b[0;34m)\u001b[0m\u001b[0;34m\u001b[0m\u001b[0;34m\u001b[0m\u001b[0m\n\u001b[0m\u001b[1;32m    686\u001b[0m \u001b[0;34m\u001b[0m\u001b[0m\n\u001b[1;32m    687\u001b[0m     \u001b[0mparser_f\u001b[0m\u001b[0;34m.\u001b[0m\u001b[0m__name__\u001b[0m \u001b[0;34m=\u001b[0m \u001b[0mname\u001b[0m\u001b[0;34m\u001b[0m\u001b[0;34m\u001b[0m\u001b[0m\n",
      "\u001b[0;32m~/anaconda3/envs/torch/lib/python3.7/site-packages/pandas/io/parsers.py\u001b[0m in \u001b[0;36m_read\u001b[0;34m(filepath_or_buffer, kwds)\u001b[0m\n\u001b[1;32m    455\u001b[0m \u001b[0;34m\u001b[0m\u001b[0m\n\u001b[1;32m    456\u001b[0m     \u001b[0;31m# Create the parser.\u001b[0m\u001b[0;34m\u001b[0m\u001b[0;34m\u001b[0m\u001b[0;34m\u001b[0m\u001b[0m\n\u001b[0;32m--> 457\u001b[0;31m     \u001b[0mparser\u001b[0m \u001b[0;34m=\u001b[0m \u001b[0mTextFileReader\u001b[0m\u001b[0;34m(\u001b[0m\u001b[0mfp_or_buf\u001b[0m\u001b[0;34m,\u001b[0m \u001b[0;34m**\u001b[0m\u001b[0mkwds\u001b[0m\u001b[0;34m)\u001b[0m\u001b[0;34m\u001b[0m\u001b[0;34m\u001b[0m\u001b[0m\n\u001b[0m\u001b[1;32m    458\u001b[0m \u001b[0;34m\u001b[0m\u001b[0m\n\u001b[1;32m    459\u001b[0m     \u001b[0;32mif\u001b[0m \u001b[0mchunksize\u001b[0m \u001b[0;32mor\u001b[0m \u001b[0miterator\u001b[0m\u001b[0;34m:\u001b[0m\u001b[0;34m\u001b[0m\u001b[0;34m\u001b[0m\u001b[0m\n",
      "\u001b[0;32m~/anaconda3/envs/torch/lib/python3.7/site-packages/pandas/io/parsers.py\u001b[0m in \u001b[0;36m__init__\u001b[0;34m(self, f, engine, **kwds)\u001b[0m\n\u001b[1;32m    893\u001b[0m             \u001b[0mself\u001b[0m\u001b[0;34m.\u001b[0m\u001b[0moptions\u001b[0m\u001b[0;34m[\u001b[0m\u001b[0;34m\"has_index_names\"\u001b[0m\u001b[0;34m]\u001b[0m \u001b[0;34m=\u001b[0m \u001b[0mkwds\u001b[0m\u001b[0;34m[\u001b[0m\u001b[0;34m\"has_index_names\"\u001b[0m\u001b[0;34m]\u001b[0m\u001b[0;34m\u001b[0m\u001b[0;34m\u001b[0m\u001b[0m\n\u001b[1;32m    894\u001b[0m \u001b[0;34m\u001b[0m\u001b[0m\n\u001b[0;32m--> 895\u001b[0;31m         \u001b[0mself\u001b[0m\u001b[0;34m.\u001b[0m\u001b[0m_make_engine\u001b[0m\u001b[0;34m(\u001b[0m\u001b[0mself\u001b[0m\u001b[0;34m.\u001b[0m\u001b[0mengine\u001b[0m\u001b[0;34m)\u001b[0m\u001b[0;34m\u001b[0m\u001b[0;34m\u001b[0m\u001b[0m\n\u001b[0m\u001b[1;32m    896\u001b[0m \u001b[0;34m\u001b[0m\u001b[0m\n\u001b[1;32m    897\u001b[0m     \u001b[0;32mdef\u001b[0m \u001b[0mclose\u001b[0m\u001b[0;34m(\u001b[0m\u001b[0mself\u001b[0m\u001b[0;34m)\u001b[0m\u001b[0;34m:\u001b[0m\u001b[0;34m\u001b[0m\u001b[0;34m\u001b[0m\u001b[0m\n",
      "\u001b[0;32m~/anaconda3/envs/torch/lib/python3.7/site-packages/pandas/io/parsers.py\u001b[0m in \u001b[0;36m_make_engine\u001b[0;34m(self, engine)\u001b[0m\n\u001b[1;32m   1133\u001b[0m     \u001b[0;32mdef\u001b[0m \u001b[0m_make_engine\u001b[0m\u001b[0;34m(\u001b[0m\u001b[0mself\u001b[0m\u001b[0;34m,\u001b[0m \u001b[0mengine\u001b[0m\u001b[0;34m=\u001b[0m\u001b[0;34m\"c\"\u001b[0m\u001b[0;34m)\u001b[0m\u001b[0;34m:\u001b[0m\u001b[0;34m\u001b[0m\u001b[0;34m\u001b[0m\u001b[0m\n\u001b[1;32m   1134\u001b[0m         \u001b[0;32mif\u001b[0m \u001b[0mengine\u001b[0m \u001b[0;34m==\u001b[0m \u001b[0;34m\"c\"\u001b[0m\u001b[0;34m:\u001b[0m\u001b[0;34m\u001b[0m\u001b[0;34m\u001b[0m\u001b[0m\n\u001b[0;32m-> 1135\u001b[0;31m             \u001b[0mself\u001b[0m\u001b[0;34m.\u001b[0m\u001b[0m_engine\u001b[0m \u001b[0;34m=\u001b[0m \u001b[0mCParserWrapper\u001b[0m\u001b[0;34m(\u001b[0m\u001b[0mself\u001b[0m\u001b[0;34m.\u001b[0m\u001b[0mf\u001b[0m\u001b[0;34m,\u001b[0m \u001b[0;34m**\u001b[0m\u001b[0mself\u001b[0m\u001b[0;34m.\u001b[0m\u001b[0moptions\u001b[0m\u001b[0;34m)\u001b[0m\u001b[0;34m\u001b[0m\u001b[0;34m\u001b[0m\u001b[0m\n\u001b[0m\u001b[1;32m   1136\u001b[0m         \u001b[0;32melse\u001b[0m\u001b[0;34m:\u001b[0m\u001b[0;34m\u001b[0m\u001b[0;34m\u001b[0m\u001b[0m\n\u001b[1;32m   1137\u001b[0m             \u001b[0;32mif\u001b[0m \u001b[0mengine\u001b[0m \u001b[0;34m==\u001b[0m \u001b[0;34m\"python\"\u001b[0m\u001b[0;34m:\u001b[0m\u001b[0;34m\u001b[0m\u001b[0;34m\u001b[0m\u001b[0m\n",
      "\u001b[0;32m~/anaconda3/envs/torch/lib/python3.7/site-packages/pandas/io/parsers.py\u001b[0m in \u001b[0;36m__init__\u001b[0;34m(self, src, **kwds)\u001b[0m\n\u001b[1;32m   1915\u001b[0m         \u001b[0mkwds\u001b[0m\u001b[0;34m[\u001b[0m\u001b[0;34m\"usecols\"\u001b[0m\u001b[0;34m]\u001b[0m \u001b[0;34m=\u001b[0m \u001b[0mself\u001b[0m\u001b[0;34m.\u001b[0m\u001b[0musecols\u001b[0m\u001b[0;34m\u001b[0m\u001b[0;34m\u001b[0m\u001b[0m\n\u001b[1;32m   1916\u001b[0m \u001b[0;34m\u001b[0m\u001b[0m\n\u001b[0;32m-> 1917\u001b[0;31m         \u001b[0mself\u001b[0m\u001b[0;34m.\u001b[0m\u001b[0m_reader\u001b[0m \u001b[0;34m=\u001b[0m \u001b[0mparsers\u001b[0m\u001b[0;34m.\u001b[0m\u001b[0mTextReader\u001b[0m\u001b[0;34m(\u001b[0m\u001b[0msrc\u001b[0m\u001b[0;34m,\u001b[0m \u001b[0;34m**\u001b[0m\u001b[0mkwds\u001b[0m\u001b[0;34m)\u001b[0m\u001b[0;34m\u001b[0m\u001b[0;34m\u001b[0m\u001b[0m\n\u001b[0m\u001b[1;32m   1918\u001b[0m         \u001b[0mself\u001b[0m\u001b[0;34m.\u001b[0m\u001b[0munnamed_cols\u001b[0m \u001b[0;34m=\u001b[0m \u001b[0mself\u001b[0m\u001b[0;34m.\u001b[0m\u001b[0m_reader\u001b[0m\u001b[0;34m.\u001b[0m\u001b[0munnamed_cols\u001b[0m\u001b[0;34m\u001b[0m\u001b[0;34m\u001b[0m\u001b[0m\n\u001b[1;32m   1919\u001b[0m \u001b[0;34m\u001b[0m\u001b[0m\n",
      "\u001b[0;32mpandas/_libs/parsers.pyx\u001b[0m in \u001b[0;36mpandas._libs.parsers.TextReader.__cinit__\u001b[0;34m()\u001b[0m\n",
      "\u001b[0;32mpandas/_libs/parsers.pyx\u001b[0m in \u001b[0;36mpandas._libs.parsers.TextReader._setup_parser_source\u001b[0;34m()\u001b[0m\n",
      "\u001b[0;31mFileNotFoundError\u001b[0m: [Errno 2] File b'../data/01_data_mars_triangulation.csv' does not exist: b'../data/01_data_mars_triangulation.csv'"
     ]
    }
   ],
   "source": [
    "if __name__ == '__main__':\n",
    "    df = pd.read_csv('../data/01_data_mars_triangulation.csv')\n",
    "    # 2 part(i)\n",
    "    theta1,theta2,phi1,phi2 = calc_angles(df)\n",
    "    x , y = coordinates_tri(theta1,theta2,phi1,phi2)\n",
    "    # 2 part(ii)\n",
    "    param = minimize_loss_tri(x,y)\n",
    "    print(param)\n",
    "    radius = param[0]\n",
    "    print(radius)\n",
    "    \n",
    "    #3 part(i)\n",
    "    data = pd.read_csv('../data/01_data_mars_opposition.csv')\n",
    "    sun, lat = read_dataset('../data/01_data_mars_opposition.csv')\n",
    "    helo_angle = calculate_heliocentric_angle(lat,radius)\n",
    "    print(helo_angle)\n",
    "    \n",
    "    #3 part(ii)\n",
    "    phi = longitude(filename)\n",
    "    coord_3d = coordinates_3d(helo_angle,phi)\n",
    "    \n",
    "    #3 part(iii)\n",
    "    param, loss = minimize_loss(coord_3d)\n",
    "    print(param, loss)\n",
    "    angle = calc_inclination(param)\n",
    "    print(angle)\n",
    "    \n",
    "    #4 part(i)\n",
    "    coord = x,y\n",
    "    coord_marsplane = calc_CoordOnMarsPlane(param,coord)\n",
    "    print(coord_marsplane)\n",
    "    \n",
    "    #4 part(ii)\n",
    "    radius_circle, loss = find_dist_circle(coord_marsplane)\n",
    "    print(radius_circle, loss)\n",
    "    \n",
    "    #4 part(iii)\n",
    "    opt_param, loss = minimize_loss(angle,coord_marsplane)\n",
    "    print(opt_param,loss)"
   ]
  },
  {
   "cell_type": "code",
   "execution_count": null,
   "metadata": {},
   "outputs": [],
   "source": []
  }
 ],
 "metadata": {
  "kernelspec": {
   "display_name": "Python 3",
   "language": "python",
   "name": "python3"
  },
  "language_info": {
   "codemirror_mode": {
    "name": "ipython",
    "version": 3
   },
   "file_extension": ".py",
   "mimetype": "text/x-python",
   "name": "python",
   "nbconvert_exporter": "python",
   "pygments_lexer": "ipython3",
   "version": "3.7.4"
  }
 },
 "nbformat": 4,
 "nbformat_minor": 2
}
